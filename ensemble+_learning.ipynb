{
 "cells": [
  {
   "cell_type": "code",
   "execution_count": 1,
   "id": "daf729c9-15d6-4a2c-9b95-bf6146640ff4",
   "metadata": {},
   "outputs": [],
   "source": [
    "import numpy as np\n",
    "import matplotlib.pyplot as plt\n",
    "from sklearn.datasets import make_moons\n",
    "from sklearn.model_selection import train_test_split\n",
    "from sklearn.linear_model import LinearRegression\n",
    "from sklearn.model_selection import cross_val_score\n",
    "from sklearn.tree import DecisionTreeClassifier\n",
    "from sklearn.svm import SVR\n",
    "from sklearn.preprocessing import StandardScaler\n",
    "from sklearn.ensemble import VotingClassifier\n",
    "from sklearn.neighbors import KNeighborsClassifier\n",
    "from sklearn.linear_model import SGDClassifier\n",
    "from sklearn.metrics import mean_squared_error\n",
    "\n",
    "\n"
   ]
  },
  {
   "cell_type": "code",
   "execution_count": 3,
   "id": "411cdf76-903a-452d-8768-16ed476e55af",
   "metadata": {},
   "outputs": [
    {
     "name": "stdout",
     "output_type": "stream",
     "text": [
      "Model Score: 0.6466337010342489\n",
      "Mean Squared Error: 2495554898.6683207\n"
     ]
    }
   ],
   "source": [
    "\n",
    "import pandas as pd\n",
    "from sklearn.linear_model import LinearRegression\n",
    "from sklearn.svm import SVR\n",
    "from sklearn.preprocessing import StandardScaler\n",
    "from sklearn.tree import DecisionTreeRegressor\n",
    "from sklearn.model_selection import cross_val_score\n",
    "from sklearn.model_selection import train_test_split\n",
    "\n",
    "# Load the dataset\n",
    "data = pd.read_csv(r\"C:\\Users\\DoBUY\\Downloads\\train.csv\")\n",
    "\n",
    "# Select the columns for explanatory variables and the target variable\n",
    "X = data[['GrLivArea', 'YearBuilt']]\n",
    "y = data['SalePrice']\n",
    "\n",
    "# Split the dataset into training and validation sets (80% training, 20% validation)\n",
    "X_train, X_valid, y_train, y_valid = train_test_split(X, y, test_size=0.2, random_state=42)\n",
    "\n",
    "\n",
    "reg.fit(X_train, y_train)\n",
    "reg_score = reg.score(X_train, y_train)\n",
    "y_pred = reg.predict(X_valid)\n",
    "mse = mean_squared_error(y_valid, y_pred)\n",
    "print(\"Model Score:\", reg_score)\n",
    "print(\"Mean Squared Error:\", mse)\n",
    "\n",
    "\n"
   ]
  },
  {
   "cell_type": "code",
   "execution_count": 23,
   "id": "4aeb435a-a5d8-4bb8-a46a-8a73b459a884",
   "metadata": {},
   "outputs": [
    {
     "name": "stdout",
     "output_type": "stream",
     "text": [
      "Model Score (R^2 Score): -0.022385004052411173\n",
      "Mean Squared Error (MSE): 7842026490.418324\n",
      "Mean Absolute Error (MAE): 59417.0144372641\n",
      "Root Mean Squared Error (RMSE): 88555.2171835083\n"
     ]
    }
   ],
   "source": [
    "import pandas as pd\n",
    "from sklearn.linear_model import LinearRegression\n",
    "from sklearn.svm import SVR\n",
    "from sklearn.preprocessing import StandardScaler\n",
    "from sklearn.tree import DecisionTreeRegressor\n",
    "from sklearn.model_selection import cross_val_score\n",
    "from sklearn.model_selection import train_test_split\n",
    "from sklearn.metrics import precision_score\n",
    "from sklearn.metrics import recall_score\n",
    "\n",
    "# Load the dataset\n",
    "data = pd.read_csv(r\"C:\\Users\\DoBUY\\Downloads\\train.csv\")\n",
    "\n",
    "# Select the columns for explanatory variables and the target variable\n",
    "X = data[['GrLivArea', 'YearBuilt']]\n",
    "y = data['SalePrice']\n",
    "\n",
    "# Split the dataset into training and validation sets (80% training, 20% validation)\n",
    "X_train, X_test, y_train, y_test = train_test_split(X, y, test_size=0.2, random_state=42)\n",
    "\n",
    "from sklearn.metrics import mean_squared_error, mean_absolute_error\n",
    "\n",
    "# Fit the SVR model\n",
    "SV = SVR()\n",
    "SV.fit(X_train1, y_train)\n",
    "\n",
    "# Make predictions\n",
    "y_pred = SV.predict(X_test1)\n",
    "\n",
    "# Calculate model score (R^2 score)\n",
    "model_score = SV.score(X_test1, y_test)\n",
    "print(\"Model Score (R^2 Score):\", model_score)\n",
    "\n",
    "# Calculate performance metrics\n",
    "mse = mean_squared_error(y_test, y_pred)\n",
    "mae = mean_absolute_error(y_test, y_pred)\n",
    "rmse = mean_squared_error(y_test, y_pred, squared=False)\n",
    "\n",
    "print(\"Mean Squared Error (MSE):\", mse)\n",
    "print(\"Mean Absolute Error (MAE):\", mae)\n",
    "print(\"Root Mean Squared Error (RMSE):\", rmse)\n",
    "\n",
    "\n"
   ]
  },
  {
   "cell_type": "code",
   "execution_count": 20,
   "id": "3bef524f-270f-4e9e-b7f2-877f78a0155a",
   "metadata": {},
   "outputs": [
    {
     "name": "stdout",
     "output_type": "stream",
     "text": [
      "Mean Absolute Error (MAE): 32154.296803652967\n",
      "Mean Squared Error (MSE): 2207848853.1202435\n",
      "Root Mean Squared Error (RMSE): 46987.75216075189\n",
      "R-squared (R2) Score: 0.7121571112514771\n"
     ]
    }
   ],
   "source": [
    "import pandas as pd\n",
    "from sklearn.linear_model import LinearRegression\n",
    "from sklearn.svm import SVR\n",
    "from sklearn.preprocessing import StandardScaler\n",
    "from sklearn.tree import DecisionTreeRegressor\n",
    "from sklearn.model_selection import cross_val_score\n",
    "from sklearn.model_selection import train_test_split\n",
    "from sklearn.metrics import precision_score\n",
    "from sklearn.metrics import recall_score\n",
    "from sklearn.metrics import accuracy_score\n",
    "\n",
    "# Load the dataset\n",
    "data = pd.read_csv(r\"C:\\Users\\DoBUY\\Downloads\\train.csv\")\n",
    "\n",
    "# Select the columns for explanatory variables and the target variable\n",
    "X = data[['GrLivArea', 'YearBuilt']]\n",
    "y = data['SalePrice']\n",
    "\n",
    "# Split the dataset into training and validation sets (80% training, 20% validation)\n",
    "X_train, X_test, y_train, y_test = train_test_split(X, y, test_size=0.2, random_state=42)\n",
    "\n",
    "\n",
    "\n",
    "from sklearn.tree import DecisionTreeRegressor\n",
    "from sklearn.metrics import mean_absolute_error, mean_squared_error, r2_score\n",
    "\n",
    "# Initialize Decision Tree Regressor\n",
    "tree_reg = DecisionTreeRegressor()\n",
    "\n",
    "# Fit the model\n",
    "tree_reg.fit(X_train, y_train)\n",
    "\n",
    "# Make predictions\n",
    "y_pred = tree_reg.predict(X_test)\n",
    "\n",
    "# Calculate evaluation metrics\n",
    "mae = mean_absolute_error(y_test, y_pred)\n",
    "mse = mean_squared_error(y_test, y_pred)\n",
    "rmse = mean_squared_error(y_test, y_pred, squared=False)\n",
    "r2 = r2_score(y_test, y_pred)\n",
    "\n",
    "print(\"Mean Absolute Error (MAE):\", mae)\n",
    "print(\"Mean Squared Error (MSE):\", mse)\n",
    "print(\"Root Mean Squared Error (RMSE):\", rmse)\n",
    "print(\"R-squared (R2) Score:\", r2)\n",
    "\n"
   ]
  },
  {
   "cell_type": "code",
   "execution_count": 24,
   "id": "a5e3f60e-d7a0-44dd-a797-4a2a9af8b5f5",
   "metadata": {},
   "outputs": [],
   "source": [
    "#problem 1"
   ]
  },
  {
   "cell_type": "code",
   "execution_count": 27,
   "id": "63e0e37b-b12b-4c98-9056-d232f6eb22f0",
   "metadata": {},
   "outputs": [
    {
     "name": "stdout",
     "output_type": "stream",
     "text": [
      "Mean Absolute Error (MAE): 28390.65345638512\n",
      "Mean Squared Error (MSE): 7842026490.418324\n",
      "Root Mean Squared Error (RMSE): 40984.83612321712\n",
      "R-squared (R2) Score: 0.7810058207859498\n",
      "Blended Model MSE: 1679756792.0469632\n"
     ]
    }
   ],
   "source": [
    "from sklearn.model_selection import train_test_split\n",
    "from sklearn.linear_model import LinearRegression\n",
    "from sklearn.tree import DecisionTreeRegressor\n",
    "from sklearn.ensemble import RandomForestRegressor\n",
    "from sklearn.metrics import mean_squared_error\n",
    "\n",
    "# Split the data into training and validation sets\n",
    "X_train, X_valid, y_train, y_valid = train_test_split(X, y, test_size=0.2, random_state=42)\n",
    "\n",
    "# Train diverse models\n",
    "model_lr = LinearRegression()\n",
    "model_dt = DecisionTreeRegressor()\n",
    "model_rf = RandomForestRegressor()\n",
    "\n",
    "model_lr.fit(X_train, y_train)\n",
    "model_dt.fit(X_train, y_train)\n",
    "model_rf.fit(X_train, y_train)\n",
    "\n",
    "# Generate predictions for the validation data\n",
    "pred_lr = model_lr.predict(X_valid)\n",
    "pred_dt = model_dt.predict(X_valid)\n",
    "pred_rf = model_rf.predict(X_valid)\n",
    "\n",
    "# Combine predictions using blending (average)\n",
    "blended_pred = (pred_lr + pred_dt + pred_rf) / 3\n",
    "\n",
    "# Evaluate blended predictions\n",
    "mse_blended = mean_squared_error(y_valid, blended_pred)\n",
    "# Calculate evaluation metrics\n",
    "mae = mean_absolute_error(y_valid, blended_pred)\n",
    "rmse = mean_squared_error(y_valid, blended_pred, squared=False)\n",
    "r2 = r2_score(y_valid, blended_pred)\n",
    "\n",
    "print(\"Mean Absolute Error (MAE):\", mae)\n",
    "print(\"Mean Squared Error (MSE):\", mse)\n",
    "print(\"Root Mean Squared Error (RMSE):\", rmse)\n",
    "print(\"R-squared (R2) Score:\", r2)\n",
    "\n",
    "print(\"Blended Model MSE:\", mse_blended)\n"
   ]
  },
  {
   "cell_type": "code",
   "execution_count": 25,
   "id": "9d41d51c-cfa1-44da-bec1-876a02f10a48",
   "metadata": {},
   "outputs": [
    {
     "name": "stdout",
     "output_type": "stream",
     "text": [
      "Blended Model MSE: 3330704630.2933183\n"
     ]
    }
   ],
   "source": [
    "from sklearn.model_selection import train_test_split\n",
    "from sklearn.svm import SVR\n",
    "from sklearn.linear_model import Ridge, Lasso\n",
    "from sklearn.metrics import mean_squared_error\n",
    "\n",
    "# Split the data into training and validation sets\n",
    "X_train, X_valid, y_train, y_valid = train_test_split(X, y, test_size=0.2, random_state=42)\n",
    "\n",
    "# Train diverse models\n",
    "model_svr = SVR()\n",
    "model_ridge = Ridge()\n",
    "model_lasso = Lasso()\n",
    "\n",
    "model_svr.fit(X_train, y_train)\n",
    "model_ridge.fit(X_train, y_train)\n",
    "model_lasso.fit(X_train, y_train)\n",
    "\n",
    "# Generate predictions for the validation data\n",
    "pred_svr = model_svr.predict(X_valid)\n",
    "pred_ridge = model_ridge.predict(X_valid)\n",
    "pred_lasso = model_lasso.predict(X_valid)\n",
    "\n",
    "# Combine predictions using blending (average)\n",
    "blended_pred = (pred_svr + pred_ridge + pred_lasso) / 3\n",
    "\n",
    "# Evaluate blended predictions\n",
    "mse_blended = mean_squared_error(y_valid, blended_pred)\n",
    "print(\"Blended Model MSE:\", mse_blended)\n"
   ]
  },
  {
   "cell_type": "code",
   "execution_count": null,
   "id": "cad340b0-9a55-45d2-9f3b-d60f9e7ab0e0",
   "metadata": {},
   "outputs": [],
   "source": [
    "#voting classifier for regression"
   ]
  },
  {
   "cell_type": "code",
   "execution_count": 29,
   "id": "729a212b-4278-435a-a6f2-abce92e8ba2d",
   "metadata": {},
   "outputs": [
    {
     "name": "stdout",
     "output_type": "stream",
     "text": [
      "Voting Regressor MSE: 1735054279.5540545\n",
      "Voting Regressor MAE: 28764.77032111571\n",
      "Voting Regressor RMSE: 41653.98275740333\n",
      "Voting Regressor R2 Score: 0.7737965462370685\n"
     ]
    }
   ],
   "source": [
    "from sklearn.ensemble import VotingRegressor\n",
    "\n",
    "# Initialize individual regressors\n",
    "model_lr = LinearRegression()\n",
    "model_dt = DecisionTreeRegressor()\n",
    "model_rf = RandomForestRegressor()\n",
    "\n",
    "# Create a list of tuples, where each tuple contains a name and the regressor\n",
    "estimators = [\n",
    "    ('linear', model_lr),\n",
    "    ('decision_tree', model_dt),\n",
    "    ('random_forest', model_rf)\n",
    "]\n",
    "\n",
    "# Initialize the voting regressor\n",
    "voting_reg = VotingRegressor(estimators)\n",
    "\n",
    "# Fit the voting regressor on the training data\n",
    "voting_reg.fit(X_train, y_train)\n",
    "\n",
    "# Generate predictions for the validation data\n",
    "y_pred_voting = voting_reg.predict(X_valid)\n",
    "\n",
    "# Evaluate the performance of the voting regressor\n",
    "mse_voting = mean_squared_error(y_valid, y_pred_voting)\n",
    "mae_voting = mean_absolute_error(y_valid, y_pred_voting)\n",
    "rmse_voting = mean_squared_error(y_valid, y_pred_voting, squared=False)\n",
    "r2_voting = r2_score(y_valid, y_pred_voting)\n",
    "\n",
    "print(\"Voting Regressor MSE:\", mse_voting)\n",
    "print(\"Voting Regressor MAE:\", mae_voting)\n",
    "print(\"Voting Regressor RMSE:\", rmse_voting)\n",
    "print(\"Voting Regressor R2 Score:\", r2_voting)\n",
    "\n"
   ]
  },
  {
   "cell_type": "code",
   "execution_count": 32,
   "id": "bb497bd5-f596-4bf4-8cea-5b56e8306b21",
   "metadata": {},
   "outputs": [
    {
     "name": "stdout",
     "output_type": "stream",
     "text": [
      "Bagging MSE: 1727837556.533904\n",
      "Bagging R-squared (R2) Score: 0.7747374088321154\n"
     ]
    }
   ],
   "source": [
    "#PROBLEM 2\n",
    "import numpy as np\n",
    "from sklearn.tree import DecisionTreeRegressor\n",
    "from sklearn.metrics import mean_squared_error\n",
    "\n",
    "# Define the number of base models (trees) to train\n",
    "n_estimators = 10\n",
    "\n",
    "# Initialize a list to store the base models\n",
    "base_models = []\n",
    "\n",
    "# Initialize a list to store the predictions of each base model\n",
    "predictions = []\n",
    "\n",
    "# Train multiple instances of the base model on different subsets of the training data\n",
    "for i in range(n_estimators):\n",
    "    # Sample with replacement from the training data to create a bootstrap sample\n",
    "    bootstrap_indices = np.random.choice(len(X_train), size=len(X_train), replace=True)\n",
    "    X_bootstrap = X_train.iloc[bootstrap_indices]\n",
    "    y_bootstrap = y_train.iloc[bootstrap_indices]\n",
    "    \n",
    "    # Initialize and train the base model (Decision Tree Regressor)\n",
    "    base_model = DecisionTreeRegressor()\n",
    "    base_model.fit(X_bootstrap, y_bootstrap)\n",
    "    \n",
    "    # Make predictions on the validation data\n",
    "    y_pred = base_model.predict(X_valid)\n",
    "    \n",
    "    # Store the base model and its predictions\n",
    "    base_models.append(base_model)\n",
    "    predictions.append(y_pred)\n",
    "\n",
    "# Combine the predictions of all base models by averaging\n",
    "bagged_predictions = np.mean(predictions, axis=0)\n",
    "\n",
    "# Evaluate the performance of bagging\n",
    "mse_bagging = mean_squared_error(y_valid, bagged_predictions)\n",
    "print(\"Bagging MSE:\", mse_bagging)\n",
    "from sklearn.metrics import r2_score\n",
    "\n",
    "# Calculate the R-squared (R2) score for the bagging model\n",
    "r2_bagging = r2_score(y_valid, bagged_predictions)\n",
    "print(\"Bagging R-squared (R2) Score:\", r2_bagging)\n",
    "\n",
    "\n",
    "\n",
    "\n"
   ]
  },
  {
   "cell_type": "code",
   "execution_count": 33,
   "id": "5ab5c314-1142-4e23-bf9f-f8bd2c0f6287",
   "metadata": {},
   "outputs": [],
   "source": [
    "#problem 3"
   ]
  },
  {
   "cell_type": "code",
   "execution_count": 35,
   "id": "488b00b2-27ab-415e-8566-38cd2f7db597",
   "metadata": {},
   "outputs": [
    {
     "name": "stdout",
     "output_type": "stream",
     "text": [
      "Stacking MSE: 2498771800.197498\n",
      "Stacking R-squared (R2) Score: 0.6134212302037344\n"
     ]
    }
   ],
   "source": [
    "import numpy as np\n",
    "from sklearn.tree import DecisionTreeRegressor\n",
    "from sklearn.ensemble import RandomForestRegressor\n",
    "from sklearn.linear_model import LinearRegression\n",
    "from sklearn.metrics import mean_squared_error\n",
    "from sklearn.model_selection import train_test_split\n",
    "from sklearn.metrics import r2_score\n",
    "\n",
    "# Define the number of base models to train\n",
    "n_estimators = 3\n",
    "\n",
    "# Initialize lists to store base models and their predictions\n",
    "base_models = []\n",
    "base_predictions = []\n",
    "\n",
    "# Split the data into training and validation sets\n",
    "X_train_base, X_valid, y_train_base, y_valid = train_test_split(X_train, y_train, test_size=0.2, random_state=42)\n",
    "\n",
    "# Train multiple base models\n",
    "for i in range(n_estimators):\n",
    "    # Choose a base model (e.g., Decision Tree, Random Forest, etc.)\n",
    "    base_model = DecisionTreeRegressor()\n",
    "    \n",
    "    # Fit the base model to the training data\n",
    "    base_model.fit(X_train_base, y_train_base)\n",
    "    \n",
    "    # Make predictions on the validation data\n",
    "    base_pred = base_model.predict(X_valid)\n",
    "    \n",
    "    # Store the base model and its predictions\n",
    "    base_models.append(base_model)\n",
    "    base_predictions.append(base_pred)\n",
    "\n",
    "# Stack the predictions of base models along with the original features\n",
    "X_stacked = np.column_stack(base_predictions)\n",
    "\n",
    "# Train a meta-model (e.g., Linear Regression) on the stacked predictions\n",
    "meta_model = LinearRegression()\n",
    "meta_model.fit(X_stacked, y_valid)\n",
    "\n",
    "# Generate predictions for the validation data using the meta-model\n",
    "meta_predictions = meta_model.predict(X_stacked)\n",
    "\n",
    "# Evaluate the performance of stacking\n",
    "mse_stacking = mean_squared_error(y_valid, meta_predictions)\n",
    "print(\"Stacking MSE:\", mse_stacking)\n",
    "\n",
    "\n",
    "# Calculate the R-squared (R2) score for the stacking model\n",
    "r2_stacking = r2_score(y_valid, meta_predictions)\n",
    "print(\"Stacking R-squared (R2) Score:\", r2_stacking)\n",
    "\n"
   ]
  },
  {
   "cell_type": "code",
   "execution_count": null,
   "id": "81afef83-d3ff-4b98-9b44-0f59b10ecc7e",
   "metadata": {},
   "outputs": [],
   "source": []
  }
 ],
 "metadata": {
  "kernelspec": {
   "display_name": "Python 3 (ipykernel)",
   "language": "python",
   "name": "python3"
  },
  "language_info": {
   "codemirror_mode": {
    "name": "ipython",
    "version": 3
   },
   "file_extension": ".py",
   "mimetype": "text/x-python",
   "name": "python",
   "nbconvert_exporter": "python",
   "pygments_lexer": "ipython3",
   "version": "3.11.7"
  }
 },
 "nbformat": 4,
 "nbformat_minor": 5
}
